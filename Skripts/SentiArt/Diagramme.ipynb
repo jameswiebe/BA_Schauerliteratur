{
 "cells": [
  {
   "cell_type": "code",
   "execution_count": null,
   "id": "e0dccb6b-8c70-4ce9-b82a-7038bf0ca54a",
   "metadata": {},
   "outputs": [],
   "source": [
    "import pandas as pd\n",
    "import numpy as np\n",
    "import plotly.figure_factory as ff\n",
    "import spacy\n",
    "\n",
    "nlp = spacy.load('de_core_news_sm')"
   ]
  },
  {
   "cell_type": "code",
   "execution_count": null,
   "id": "dc7c07f4-ea6a-461d-8dfb-f3fcb06b8c3c",
   "metadata": {},
   "outputs": [],
   "source": [
    "output_file_path = 'C:/Users/jwieb/OneDrive - uni-bielefeld.de/Bachelorarbeit/output.csv'\n",
    "df = pd.read_csv(output_file_path, sep=';')"
   ]
  },
  {
   "cell_type": "code",
   "execution_count": null,
   "id": "3e29f10a-100e-41bb-8ad7-ceae25eba017",
   "metadata": {},
   "outputs": [],
   "source": [
    "df"
   ]
  },
  {
   "cell_type": "code",
   "execution_count": null,
   "id": "b8e70cd3-68cd-4548-a791-5700a8ce0cc5",
   "metadata": {},
   "outputs": [],
   "source": [
    "# Entferne alle Zeilen mit mindestens einem NaN-Wert\n",
    "df_cleaned = df.dropna()"
   ]
  },
  {
   "cell_type": "code",
   "execution_count": null,
   "id": "9a9619ce-7eac-4297-881c-63c22520d24f",
   "metadata": {},
   "outputs": [],
   "source": [
    "df_cleaned"
   ]
  },
  {
   "cell_type": "code",
   "execution_count": null,
   "id": "d9f77e44-ffe8-41d4-9bef-ce3a0789767b",
   "metadata": {},
   "outputs": [],
   "source": [
    "import plotly.figure_factory as ff\n",
    "import plotly.io as pio\n",
    "\n",
    "grouped_data = [df_cleaned[df_cleaned['subcorpus'] == group]['fear_z'].tolist() for group in df_cleaned['subcorpus'].unique()]\n",
    "group_labels = df_cleaned['subcorpus'].unique().tolist()\n",
    "\n",
    "fig = ff.create_distplot(grouped_data, group_labels, show_hist=False, show_rug=False)\n",
    "\n",
    "fig.update_layout(\n",
    "    title=\"Verteilungskurven der 'fear_z'-Werte nach Subkorpus\",\n",
    "    xaxis_title=\"fear_z-Werte\",  # Beschriftung der x-Achse\n",
    "    yaxis_title=\"Häufigkeit\",  # Beschriftung der y-Achse\n",
    "    title_x=0.5  # Zentriert den Titel\n",
    ")\n",
    "\n",
    "fig.show()\n",
    "\n",
    "pio.write_image(fig, \"C:/Users/jwieb/OneDrive - uni-bielefeld.de/Bachelorarbeit/Grafiken/distplot.png\")"
   ]
  },
  {
   "cell_type": "markdown",
   "id": "9f3f7544-7c92-45e3-b898-b537d158fad9",
   "metadata": {},
   "source": [
    "# Substantive filtern"
   ]
  },
  {
   "cell_type": "code",
   "execution_count": null,
   "id": "7c6fb40c-f353-488a-8f4e-e42a08f270ae",
   "metadata": {
    "scrolled": true
   },
   "outputs": [],
   "source": [
    "def filter_noun_batch(df, text_column):\n",
    "    docs = nlp.pipe(df[text_column].tolist(), batch_size=1000)\n",
    "    \n",
    "    mask = [doc[0].pos_ == 'NOUN' for doc in docs]\n",
    "    \n",
    "    return df[mask].reset_index(drop=True)\n",
    "    \n",
    "df_nouns = filter_noun_batch(df_cleaned, 'wordLC')"
   ]
  },
  {
   "cell_type": "code",
   "execution_count": null,
   "id": "70867b04-cf75-450d-a5fb-580fa4e582b8",
   "metadata": {},
   "outputs": [],
   "source": [
    "df_nouns"
   ]
  },
  {
   "cell_type": "code",
   "execution_count": null,
   "id": "4ac4355c-d266-49c0-b4bb-0dadedf4e3e9",
   "metadata": {},
   "outputs": [],
   "source": [
    "grouped_data = [df_nouns[df_nouns['subcorpus'] == group]['fear_z'].tolist() for group in df_nouns['subcorpus'].unique()]\n",
    "group_labels = df_nouns['subcorpus'].unique().tolist()\n",
    "\n",
    "fig = ff.create_distplot(grouped_data, group_labels, show_hist=False, show_rug=False)\n",
    "\n",
    "fig.show()"
   ]
  },
  {
   "cell_type": "markdown",
   "id": "d0e6ca61-1f00-4c16-b2b0-0c9915d07585",
   "metadata": {},
   "source": [
    "# Verben filtern"
   ]
  },
  {
   "cell_type": "code",
   "execution_count": null,
   "id": "ddc4e590-c88e-43f3-9db9-1388f0bdac27",
   "metadata": {},
   "outputs": [],
   "source": [
    "def filter_verbs_batch(df, text_column):\n",
    "    # Batch-Verarbeitung mit spaCy\n",
    "    docs = nlp.pipe(df[text_column].tolist(), batch_size=1000)\n",
    "    \n",
    "    mask = [doc[0].pos_ == 'VERB' for doc in docs]\n",
    "    \n",
    "    return df[mask].reset_index(drop=True)\n",
    "    \n",
    "df_verbs = filter_verbs_batch(df_cleaned, 'wordLC')"
   ]
  },
  {
   "cell_type": "code",
   "execution_count": null,
   "id": "761859dc-f649-435f-b64c-dbc9fd4dd867",
   "metadata": {},
   "outputs": [],
   "source": [
    "df_verbs"
   ]
  },
  {
   "cell_type": "code",
   "execution_count": null,
   "id": "d6965fd5-90e0-40c9-af60-504011002783",
   "metadata": {},
   "outputs": [],
   "source": [
    "path = 'C:/Users/jwieb/OneDrive - uni-bielefeld.de/Bachelorarbeit/only_verbs.csv'\n",
    "\n",
    "df_verbs.to_csv(path, index=False, sep=';')"
   ]
  },
  {
   "cell_type": "code",
   "execution_count": null,
   "id": "1a618ed5-8102-4cf1-b7ce-b490d8373f61",
   "metadata": {},
   "outputs": [],
   "source": [
    "grouped_data = [df_verbs[df_verbs['subcorpus'] == group]['fear_z'].tolist() for group in df_verbs['subcorpus'].unique()]\n",
    "group_labels = df_verbs['subcorpus'].unique().tolist()\n",
    "\n",
    "fig = ff.create_distplot(grouped_data, group_labels, show_hist=False, show_rug=False)\n",
    "\n",
    "fig.show()"
   ]
  },
  {
   "cell_type": "markdown",
   "id": "135fd20d-e931-4507-93c5-d93051fff4fe",
   "metadata": {},
   "source": [
    "# Adjektive filtern"
   ]
  },
  {
   "cell_type": "code",
   "execution_count": null,
   "id": "a0a3656a-f78f-490d-8675-d09da45cb14d",
   "metadata": {},
   "outputs": [],
   "source": [
    "def filter_adj_batch(df, text_column):\n",
    "    docs = nlp.pipe(df[text_column].tolist(), batch_size=1000)\n",
    "    \n",
    "    mask = [doc[0].pos_ == 'ADJ' for doc in docs]\n",
    "    \n",
    "    return df[mask].reset_index(drop=True)\n",
    "    \n",
    "df_adj = filter_adj_batch(df_cleaned, 'wordLC')"
   ]
  },
  {
   "cell_type": "code",
   "execution_count": null,
   "id": "45e5a710-33c0-4051-9fe6-f9ace52c9619",
   "metadata": {},
   "outputs": [],
   "source": [
    "df_adj"
   ]
  },
  {
   "cell_type": "code",
   "execution_count": null,
   "id": "337d0e50-b091-447e-8466-558075015d7f",
   "metadata": {},
   "outputs": [],
   "source": [
    "path = 'C:/Users/jwieb/OneDrive - uni-bielefeld.de/Bachelorarbeit/only_adj.csv'\n",
    "\n",
    "df_adj.to_csv(path, index=False, sep=';')"
   ]
  },
  {
   "cell_type": "code",
   "execution_count": null,
   "id": "4317f1f5-458a-4bba-8d9d-506f459c079f",
   "metadata": {},
   "outputs": [],
   "source": [
    "grouped_data = [df_adj[df_adj['subcorpus'] == group]['fear_z'].tolist() for group in df_adj['subcorpus'].unique()]\n",
    "group_labels = df_adj['subcorpus'].unique().tolist()\n",
    "\n",
    "fig = ff.create_distplot(grouped_data, group_labels, show_hist=False, show_rug=False)\n",
    "\n",
    "fig.show()"
   ]
  },
  {
   "cell_type": "markdown",
   "id": "e8073aa3-cd91-4f5d-89f7-b150489f9ba6",
   "metadata": {},
   "source": [
    "# Verben entfernen"
   ]
  },
  {
   "cell_type": "code",
   "execution_count": null,
   "id": "174935fe-030a-4af4-bb1e-9eebd0e119a6",
   "metadata": {
    "scrolled": true
   },
   "outputs": [],
   "source": [
    "def filter_non_verbs_batch(df, text_column):\n",
    "    docs = nlp.pipe(df[text_column].tolist(), batch_size=1000)\n",
    "    \n",
    "    mask = [doc[0].pos_ != 'VERB' for doc in docs]\n",
    "    \n",
    "    return df[mask].reset_index(drop=True)\n",
    "\n",
    "df_verbs_removed = filter_non_verbs_batch(df_cleaned, 'wordLC')"
   ]
  },
  {
   "cell_type": "code",
   "execution_count": null,
   "id": "be5c5a4f-f2b5-4804-a524-868cecbbe854",
   "metadata": {},
   "outputs": [],
   "source": [
    "df_verbs_removed"
   ]
  },
  {
   "cell_type": "code",
   "execution_count": null,
   "id": "76f8e4e5-173d-4876-b5eb-74171d10f00e",
   "metadata": {},
   "outputs": [],
   "source": [
    "path = 'C:/Users/jwieb/OneDrive - uni-bielefeld.de/Bachelorarbeit/without_verbs.csv'\n",
    "\n",
    "df_verbs_removed.to_csv(path, index=False, sep=';')"
   ]
  },
  {
   "cell_type": "code",
   "execution_count": null,
   "id": "f32e7ad8-ffbe-4225-96fd-fe00c9f7f563",
   "metadata": {},
   "outputs": [],
   "source": [
    "grouped_data = [df_verbs_removed[df_verbs_removed['subcorpus'] == group]['fear_z'].tolist() for group in df_verbs_removed['subcorpus'].unique()]\n",
    "group_labels = df_verbs_removed['subcorpus'].unique().tolist()\n",
    "\n",
    "fig = ff.create_distplot(grouped_data, group_labels, show_hist=False, show_rug=False)\n",
    "\n",
    "fig.show()"
   ]
  },
  {
   "cell_type": "markdown",
   "id": "2f2af4cb-547c-495b-8a6a-f0a609d66249",
   "metadata": {},
   "source": [
    "# Substantive entfernen"
   ]
  },
  {
   "cell_type": "code",
   "execution_count": null,
   "id": "3e87a2f4-abca-4b5f-a0e6-5e73b95b5be7",
   "metadata": {},
   "outputs": [],
   "source": [
    "def filter_non_nouns_batch(df, text_column):\n",
    "    docs = nlp.pipe(df[text_column].tolist(), batch_size=1000)\n",
    "    \n",
    "    mask = [doc[0].pos_ != 'NOUN' for doc in docs]\n",
    "    \n",
    "    return df[mask].reset_index(drop=True)\n",
    "\n",
    "df_nouns_removed = filter_non_nouns_batch(df_cleaned, 'wordLC')"
   ]
  },
  {
   "cell_type": "code",
   "execution_count": null,
   "id": "696c1bbf-20cb-43f1-ac15-94e5efc3fdca",
   "metadata": {},
   "outputs": [],
   "source": [
    "df_nouns_removed"
   ]
  },
  {
   "cell_type": "code",
   "execution_count": null,
   "id": "3152eb95-41d7-4c7c-9662-c57f9f016821",
   "metadata": {},
   "outputs": [],
   "source": [
    "path = 'C:/Users/jwieb/OneDrive - uni-bielefeld.de/Bachelorarbeit/without_nouns.csv'\n",
    "\n",
    "df_nouns_removed.to_csv(path, index=False, sep=';')"
   ]
  },
  {
   "cell_type": "code",
   "execution_count": null,
   "id": "eb5ce292-7f79-443f-bfb5-bd3e23fe8855",
   "metadata": {},
   "outputs": [],
   "source": [
    "grouped_data = [df_nouns_removed[df_nouns_removed['subcorpus'] == group]['fear_z'].tolist() for group in df_nouns_removed['subcorpus'].unique()]\n",
    "group_labels = df_nouns_removed['subcorpus'].unique().tolist()\n",
    "\n",
    "fig = ff.create_distplot(grouped_data, group_labels, show_hist=False, show_rug=False)\n",
    "\n",
    "fig.show()"
   ]
  },
  {
   "cell_type": "markdown",
   "id": "3832507c-9789-4e15-8a23-719a70d95edd",
   "metadata": {},
   "source": [
    "# Adjektive entfernen"
   ]
  },
  {
   "cell_type": "code",
   "execution_count": null,
   "id": "8d8e1772-490d-431d-a2f8-715fe78ccec0",
   "metadata": {},
   "outputs": [],
   "source": [
    "def filter_non_adj_batch(df, text_column):\n",
    "    docs = nlp.pipe(df[text_column].tolist(), batch_size=1000)\n",
    "    \n",
    "    mask = [doc[0].pos_ != 'ADJ' for doc in docs]\n",
    "    \n",
    "    return df[mask].reset_index(drop=True)\n",
    "\n",
    "df_adj_removed = filter_non_adj_batch(df_cleaned, 'wordLC')"
   ]
  },
  {
   "cell_type": "code",
   "execution_count": null,
   "id": "a704ca52-bca2-429d-91fe-e04cf0208b94",
   "metadata": {},
   "outputs": [],
   "source": [
    "df_adj_removed"
   ]
  },
  {
   "cell_type": "code",
   "execution_count": null,
   "id": "e1d062f0-e25b-43ae-8f52-3e574da2f45c",
   "metadata": {},
   "outputs": [],
   "source": [
    "path = 'C:/Users/jwieb/OneDrive - uni-bielefeld.de/Bachelorarbeit/without_adj.csv'\n",
    "\n",
    "df_adj_removed.to_csv(path, index=False, sep=';')"
   ]
  },
  {
   "cell_type": "code",
   "execution_count": null,
   "id": "d84c4805-e8fc-4777-8f20-0b80ab6c640d",
   "metadata": {},
   "outputs": [],
   "source": [
    "grouped_data = [df_adj_removed[df_adj_removed['subcorpus'] == group]['fear_z'].tolist() for group in df_adj_removed['subcorpus'].unique()]\n",
    "group_labels = df_adj_removed['subcorpus'].unique().tolist()\n",
    "\n",
    "fig = ff.create_distplot(grouped_data, group_labels, show_hist=False, show_rug=False)\n",
    "\n",
    "fig.show()"
   ]
  },
  {
   "cell_type": "markdown",
   "id": "f5833bb1-c392-4ca4-a94f-696e7b82ba28",
   "metadata": {},
   "source": [
    "# Nur Adjektive als Boxplot"
   ]
  },
  {
   "cell_type": "code",
   "execution_count": null,
   "id": "b65ce5e0-6e8f-4962-ae00-b0a99c42318c",
   "metadata": {},
   "outputs": [],
   "source": [
    "input_file_path = \"C:/Users/jwieb/OneDrive - uni-bielefeld.de/Bachelorarbeit/only_adj.csv\"\n",
    "df = pd.read_csv(input_file_path, sep=';')"
   ]
  },
  {
   "cell_type": "code",
   "execution_count": null,
   "id": "8abc89af-05e3-4730-a682-33afb7bc5ba8",
   "metadata": {},
   "outputs": [],
   "source": [
    "df"
   ]
  },
  {
   "cell_type": "code",
   "execution_count": null,
   "id": "5bf86f87-9d9a-49d1-a850-a26fc1aa5808",
   "metadata": {},
   "outputs": [],
   "source": [
    "import plotly.express as px"
   ]
  },
  {
   "cell_type": "code",
   "execution_count": null,
   "id": "bce94064-14ae-4e03-8533-3edf6248f226",
   "metadata": {},
   "outputs": [],
   "source": [
    "df"
   ]
  },
  {
   "cell_type": "code",
   "execution_count": null,
   "id": "b01b9273-2c20-43a3-811d-26474d07489d",
   "metadata": {},
   "outputs": [],
   "source": [
    "fig = px.box(df, y=\"fear_z\", color=\"subcorpus\")\n",
    "fig.show()"
   ]
  },
  {
   "cell_type": "code",
   "execution_count": null,
   "id": "6de35ea8-91a7-4e57-b31b-acc0a890a79b",
   "metadata": {},
   "outputs": [],
   "source": [
    "import plotly.graph_objects as go\n",
    "import plotly.io as pio\n",
    "\n",
    "subcorpora = df_cleaned['subcorpus'].unique()\n",
    "\n",
    "fig = go.Figure()\n",
    "\n",
    "for subcorpus in subcorpora:\n",
    "    filtered_data = df_cleaned[df_cleaned['subcorpus'] == subcorpus]['fear_z']\n",
    "    fig.add_trace(go.Box(x=filtered_data, name=subcorpus))\n",
    "\n",
    "fig.update_layout(\n",
    "    title={\n",
    "        'text': \"Boxplots der 'fear_z'-Werte für beide Korpora\",\n",
    "        'x': 0.5,\n",
    "        'xanchor': 'center',\n",
    "        'yanchor': 'top'\n",
    "    },\n",
    "    xaxis_title=\"'fear_z'-Werte\",\n",
    "    yaxis_title=\"Subcorpus\"\n",
    ")\n",
    "fig.show()\n",
    "fig.write_image(\"C:/Users/jwieb/OneDrive - uni-bielefeld.de/Bachelorarbeit/Grafiken/boxplot.png\")"
   ]
  }
 ],
 "metadata": {
  "kernelspec": {
   "display_name": "Python 3 (ipykernel)",
   "language": "python",
   "name": "python3"
  },
  "language_info": {
   "codemirror_mode": {
    "name": "ipython",
    "version": 3
   },
   "file_extension": ".py",
   "mimetype": "text/x-python",
   "name": "python",
   "nbconvert_exporter": "python",
   "pygments_lexer": "ipython3",
   "version": "3.12.3"
  }
 },
 "nbformat": 4,
 "nbformat_minor": 5
}
