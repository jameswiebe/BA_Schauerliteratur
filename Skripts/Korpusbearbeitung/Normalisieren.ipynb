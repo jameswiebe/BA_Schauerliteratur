{
 "cells": [
  {
   "cell_type": "markdown",
   "metadata": {
    "id": "vQGPSn_LkQE1"
   },
   "source": [
    "# Stopwords\n",
    "\n",
    "Dieses Notebook nutzt die Programmiersprache *Python*, um in ihren Texten Stopwords zu entfernen oder nur diese zu behalten. Um ihnen etwas die Angst zu nehmen, führen wir jetzt vor allen anderen erst einmal ihre Feuertaufe durch.\n",
    "\n",
    "Dazu klicken sie auf den Code in der nächsten Zelle. Dann drücken sie auf Windows STRG+ENTER, auf Apple CMD+ENTER."
   ]
  },
  {
   "cell_type": "code",
   "execution_count": 13,
   "metadata": {
    "colab": {
     "base_uri": "https://localhost:8080/"
    },
    "id": "c3bhfNbRlHyK",
    "outputId": "57be6632-35aa-4aad-f1cd-7e5c6c31fcc9",
    "scrolled": true
   },
   "outputs": [
    {
     "name": "stdout",
     "output_type": "stream",
     "text": [
      "Hello World!\n"
     ]
    }
   ],
   "source": [
    "print(\"Hello World!\")"
   ]
  },
  {
   "cell_type": "code",
   "execution_count": 14,
   "metadata": {
    "editable": true,
    "slideshow": {
     "slide_type": ""
    },
    "tags": []
   },
   "outputs": [
    {
     "name": "stdout",
     "output_type": "stream",
     "text": [
      "Aktuelles Verzeichnis: C:\\Users\\jwieb\\Documents\\Normalisierungsordner\n"
     ]
    }
   ],
   "source": [
    "import os\n",
    "\n",
    "# Aktuelles Arbeitsverzeichnis anzeigen\n",
    "print(\"Aktuelles Verzeichnis:\", os.getcwd())"
   ]
  },
  {
   "cell_type": "code",
   "execution_count": 15,
   "metadata": {
    "editable": true,
    "slideshow": {
     "slide_type": ""
    },
    "tags": []
   },
   "outputs": [],
   "source": [
    "# Neues Arbeitsverzeichnis setzen\n",
    "os.chdir(r'C:\\Users\\jwieb\\Documents\\Normalisierungsordner')"
   ]
  },
  {
   "cell_type": "code",
   "execution_count": 16,
   "metadata": {
    "editable": true,
    "slideshow": {
     "slide_type": ""
    },
    "tags": []
   },
   "outputs": [
    {
     "name": "stdout",
     "output_type": "stream",
     "text": [
      "Neues Verzeichnis: C:\\Users\\jwieb\\Documents\\Normalisierungsordner\n"
     ]
    }
   ],
   "source": [
    "print(\"Neues Verzeichnis:\", os.getcwd())"
   ]
  },
  {
   "cell_type": "code",
   "execution_count": 17,
   "metadata": {},
   "outputs": [
    {
     "name": "stdout",
     "output_type": "stream",
     "text": [
      "Requirement already satisfied: more-itertools in c:\\users\\jwieb\\appdata\\local\\programs\\python\\python312\\lib\\site-packages (10.4.0)\n"
     ]
    },
    {
     "name": "stderr",
     "output_type": "stream",
     "text": [
      "\n",
      "[notice] A new release of pip is available: 24.0 -> 24.2\n",
      "[notice] To update, run: python.exe -m pip install --upgrade pip\n"
     ]
    }
   ],
   "source": [
    "!pip install more-itertools"
   ]
  },
  {
   "cell_type": "markdown",
   "metadata": {
    "id": "SFmCJWjulNB4"
   },
   "source": [
    "Herzlichen Glückwunsch, sie haben nun Code ausgeführt, nämlich das berühmte \"Hello World!\"-Programm. Sie sind jetzt alle Programmierer.\n",
    "\n",
    "\n",
    "## Ein paar Bemerkungen zu Colab\n",
    "Colab ist generell kostenlos, hat allerdings einige Eigenheiten, die es zu beachten gilt.\n",
    "1. Es ist von Google\n",
    "2. Sie müssen immer alle Daten hochladen, Colab merkt sich die letzte Sitzung nicht\n",
    "3. Das heißt auch, dass sie alles wieder herunterladen müssen (wird hier automatisch gemacht)  \n",
    "4. Wenn sie zulange inaktiv sind, wird die Sitzung beendet und sie müssen von vorne anfangen\n",
    "\n",
    "## Erste Schritte\n",
    "\n",
    "1. Klicken sie auf das Ordnersymbol auf der linken Seite.\n",
    "2. Rechtsklicken sie in der sich öffnenden Leiste und wählen sie \"New Folder\".\n",
    "3. Benennen sie den Ordner *corpus-raw* (Kleinschreibung und \"-\" beachten, ansonsten funktioniert der Code nicht!).\n",
    "4. Rechtsklicken sie ihren neuen Ordner, wählen sie \"Upload\".\n",
    "5. In dem sich öffnenden Fenster suchen sie ihre *.txt*-Datein, wählen sie alle aus und klicken sie auf \"Öffnen\".\n",
    "6. Wiederholen sie Schritt 2 und 3, benennen sie den neuen Ordner *corpus-clean*\n",
    "\n",
    "Nun sollten alle ihre Daten hochgeladen sein. Falls nicht, einfach rufen!\n",
    "\n",
    "Klicken sie nun auf den Code in der nächsten Zelle und führen sie diesen aus.\n"
   ]
  },
  {
   "cell_type": "code",
   "execution_count": 18,
   "metadata": {
    "editable": true,
    "id": "JZU1h87FlGmY",
    "slideshow": {
     "slide_type": ""
    },
    "tags": []
   },
   "outputs": [],
   "source": [
    "import time\n",
    "from typing import Union\n",
    "import warnings\n",
    "import requests\n",
    "from more_itertools import divide\n",
    "\n",
    "CAB_URL = 'https://www.deutschestextarchiv.de/public/cab/query?clean=1&qname=q&a=default&fmt=raw&file=C%3A%5Cfakepath%5Ctest.txt'\n",
    "CAB_HEADERS = headers = {'Content-Type': 'text/plain'}\n",
    "\n",
    "def cab(text: str, delay: Union[float, None] = None) -> Union[str, None]:\n",
    "\n",
    "    \"\"\"\n",
    "    Queries the CAB-Webservice provided by Deutsches Textarchiv for orthographic normalisation.\n",
    "    If you use this function repeatedly (e.g. in a loop), please use with delay parameter to avoid overloading the server.\n",
    "    If a texts exceeds the size of one megabyte, it is split into smaller parts\n",
    "    and then sent to the service iteratively.\n",
    "    \"\"\"\n",
    "\n",
    "    if delay is not None:\n",
    "        time.sleep(delay)\n",
    "\n",
    "    n_megabytes = len(text.encode('utf-8')) // 1000000\n",
    "\n",
    "    if n_megabytes >= 1:\n",
    "        parts = list(divide(n=n_megabytes+1, iterable=text.split(' ')))\n",
    "        parts = [' '.join(part) for part in parts]\n",
    "    else:\n",
    "        parts = [text]\n",
    "\n",
    "    normed_parts = []\n",
    "    for part in parts:\n",
    "        r = requests.post(url=CAB_URL, headers=CAB_HEADERS,\n",
    "                          data=part.encode('UTF-8'))\n",
    "\n",
    "        if r.status_code != 200:\n",
    "            warnings.warn(\n",
    "                f'Request returned with error code {r.status_code}\\nError Message\\n{r.body}')\n",
    "            return None\n",
    "\n",
    "        normed_parts.append(r.text.strip())\n",
    "\n",
    "    return ' '.join(normed_parts)"
   ]
  },
  {
   "cell_type": "markdown",
   "metadata": {
    "id": "KbNrIb4opV3l"
   },
   "source": [
    "Sie haben nun einen eigenen Algorithmus erstellt, den sie per *cab()* verwenden können.\n",
    "\n",
    "Führen sie nun die nächste Zelle aus."
   ]
  },
  {
   "cell_type": "code",
   "execution_count": 19,
   "metadata": {
    "id": "XjzfRuapoOsT"
   },
   "outputs": [],
   "source": [
    "import os\n",
    "\n",
    "corpus_raw = []\n",
    "filenames = []\n",
    "\n",
    "for file in os.listdir(\"corpus-raw\"):\n",
    "  try:\n",
    "    with open(\"corpus-raw/\" + file, \"r\", encoding=\"utf8\") as f:\n",
    "      corpus_raw.append(f.read())\n",
    "      filenames.append(file)\n",
    "  except Exception as e:\n",
    "    print(\"Error with file:\\t\" + file)\n",
    "    print(e)"
   ]
  },
  {
   "cell_type": "markdown",
   "metadata": {
    "id": "1Ku9YS1pigxu"
   },
   "source": [
    "Der Code ist relativ simpel: Alle *.txt*-Datein im Ordner *corpus-raw* werden in eine Liste namens*corpus_raw* eingelesen. Gleichzeitig werden die Dateinamen, die sie gewählt haben, in eine weitere Liste *filenames* eingelesen. In der nächsten Zelle werden der erste Dateiname und die ersten 100 Zeichen der ersten Datei ausgegeben.\n",
    "\n",
    "**Aufgabe:** Was müssen sie her verändern, wenn sie den Dritten Dateinamen und die ersten 100 Zeichen ihres dritten Textes ausgeben wollen?"
   ]
  },
  {
   "cell_type": "code",
   "execution_count": 20,
   "metadata": {
    "colab": {
     "base_uri": "https://localhost:8080/"
    },
    "id": "JCegoboepyMf",
    "outputId": "0f74b8fc-7e5c-4451-a4cd-1e24f3b4fe30"
   },
   "outputs": [
    {
     "name": "stdout",
     "output_type": "stream",
     "text": [
      "arnima_invalide_1818.txt\n",
      "Gaben der Milde.\n",
      "Viertes Bändchen.\n",
      "Mit Beiträgen von L. Achim von Arnim, F. W. Gubitz, Heraklius, C.\n"
     ]
    }
   ],
   "source": [
    "print(filenames[0])\n",
    "print(corpus_raw[0][:100])"
   ]
  },
  {
   "cell_type": "markdown",
   "metadata": {
    "id": "QpQiJEcflTWH"
   },
   "source": [
    "Wenn sie mit der oberen Zelle etwas herumgespielt haben, kommen wir nun zu dem interessante Part: dem Aufbereiten der Texte. Unter Normalisierung wird der Prozess verstanden, die Rechtschreibung ihrer Texte anzupassen.\n",
    "\n"
   ]
  },
  {
   "cell_type": "code",
   "execution_count": 21,
   "metadata": {
    "editable": true,
    "id": "odMTnJYLBlcF",
    "slideshow": {
     "slide_type": ""
    },
    "tags": []
   },
   "outputs": [],
   "source": [
    "corpus_clean = []\n",
    "\n",
    "for text in corpus_raw:\n",
    "  corpus_clean.append(cab(text, delay=3.0))"
   ]
  },
  {
   "cell_type": "markdown",
   "metadata": {
    "id": "a3FAFMs8mYce"
   },
   "source": [
    "Danach lassen wir uns erneut den ersten Dateinamen anzeigen und dieses Mal den bereinigten Text der ersten Datei. So können wir überprüfen, ob unser Code funktioniert."
   ]
  },
  {
   "cell_type": "code",
   "execution_count": 22,
   "metadata": {
    "colab": {
     "base_uri": "https://localhost:8080/"
    },
    "id": "4SdCZbfyBxdl",
    "outputId": "d246159a-afc1-4fa0-d202-5d79614d1a3a",
    "scrolled": true
   },
   "outputs": [
    {
     "name": "stdout",
     "output_type": "stream",
     "text": [
      "arnima_invalide_1818.txt\n",
      "Gaben der Milde .\n",
      "Viertes Bändchen .\n",
      "Mit Beiträgen von L. Achim von Arnim , F. W. Gubitz , Heraklius , C. F. E. Ludwig .\n",
      "Wilh. Müller , L. Velhar und Julius von Voß .\n",
      "Für die Bücher-Verloosung \" zum Vorteil hilfloser Krieger \" herausgegeben von F. W. Gubitz .\n",
      "Berlin , 1818 .\n",
      "Der tolle Invalide auf dem Fort Ratonneau .\n",
      "Erzählung von L. Achim von Arnim .\n",
      "Graf Dürande , der gute alte Kommandant von Marseille , saß einsam frierend an einem kalt stürmenden Oktoberabende bei dem schlecht eingerichteten Kamine seiner prachtvollen Kommandantenwohnung und rückte immer näher und näher zum Feuer , während die Kutschen zu einem großen Balle in der Straße vorüber rollten , und sein Kammerdiener Basset , der zugleich sein liebster Gesellschafter war , im Vorzimmer heftig schnarchte .\n",
      "Auch im südlichen Frankreich ist es nicht immer warm , dachte der alte Herr , und schüttelte mit dem Kopfe , die Menschen bleiben auch da nicht immer jung , aber die lebhafte gesellige Bewegung nimmt so wenig Rücksicht \n"
     ]
    }
   ],
   "source": [
    "print(filenames[0])\n",
    "print(corpus_clean[0][:1000])"
   ]
  },
  {
   "cell_type": "markdown",
   "metadata": {
    "id": "QuXwED_xm0oy"
   },
   "source": [
    "Wenn sie zufrieden sind führen sie die nächste Codezelle aus.\n",
    "\n",
    "Es werden hier einfach nur ihre aufbereiteten Texte in den Ordner *corpus-clean* mit den selben Namen wie ihre gesammelten Texte gespeichert."
   ]
  },
  {
   "cell_type": "code",
   "execution_count": 23,
   "metadata": {
    "id": "s9vnfT72B0IJ"
   },
   "outputs": [],
   "source": [
    "for i in range(len(filenames)):\n",
    "  try:\n",
    "    with open(\"corpus-clean/\" + filenames[i], \"w\", encoding=\"utf8\") as f:\n",
    "      f.write(corpus_clean[i])\n",
    "  except Exception as e:\n",
    "    print(\"Error with file:\\t\" + file)\n",
    "    print(e)"
   ]
  },
  {
   "cell_type": "markdown",
   "metadata": {
    "editable": true,
    "id": "RSrwQXKMnrdD",
    "slideshow": {
     "slide_type": ""
    },
    "tags": []
   },
   "source": [
    "Frustrierenderweise kann man nicht bequem über Colab einen gesamten Ordner herunterladen (und sie werden sicherlich nicht ihre 50+ Texte manuell herunterladen!). Deswegen packen wir den Ordner *corpus-clean* in ein Zip-Archiv. Führen sie hierzu einfach die nächste Zelle aus (sie können den Output ignorieren)."
   ]
  },
  {
   "cell_type": "code",
   "execution_count": 28,
   "metadata": {
    "colab": {
     "base_uri": "https://localhost:8080/"
    },
    "id": "4AqmNx7pJCf8",
    "outputId": "93061d4a-9b5a-4b75-8a93-4bceab3621d5"
   },
   "outputs": [
    {
     "name": "stderr",
     "output_type": "stream",
     "text": [
      "Der Befehl \"zip\" ist entweder falsch geschrieben oder\n",
      "konnte nicht gefunden werden.\n"
     ]
    }
   ],
   "source": [
    "!zip -r corpus.zip /content/corpus-clean"
   ]
  },
  {
   "cell_type": "markdown",
   "metadata": {
    "id": "BqI7ognFoNZV"
   },
   "source": [
    "Mit der nächsten Zelle wird das Zip-Archiv heruntergeladen:"
   ]
  },
  {
   "cell_type": "code",
   "execution_count": 29,
   "metadata": {
    "colab": {
     "base_uri": "https://localhost:8080/",
     "height": 17
    },
    "id": "4pRRhJnDJGLu",
    "outputId": "958786ed-f8e5-44b8-b5fb-86c67b53cd12"
   },
   "outputs": [
    {
     "ename": "ModuleNotFoundError",
     "evalue": "No module named 'google'",
     "output_type": "error",
     "traceback": [
      "\u001b[1;31m---------------------------------------------------------------------------\u001b[0m",
      "\u001b[1;31mModuleNotFoundError\u001b[0m                       Traceback (most recent call last)",
      "Cell \u001b[1;32mIn[29], line 1\u001b[0m\n\u001b[1;32m----> 1\u001b[0m \u001b[38;5;28;01mfrom\u001b[39;00m \u001b[38;5;21;01mgoogle\u001b[39;00m\u001b[38;5;21;01m.\u001b[39;00m\u001b[38;5;21;01mcolab\u001b[39;00m \u001b[38;5;28;01mimport\u001b[39;00m files\n\u001b[0;32m      3\u001b[0m files\u001b[38;5;241m.\u001b[39mdownload(\u001b[38;5;124m\"\u001b[39m\u001b[38;5;124mcorpus.zip\u001b[39m\u001b[38;5;124m\"\u001b[39m)\n",
      "\u001b[1;31mModuleNotFoundError\u001b[0m: No module named 'google'"
     ]
    }
   ],
   "source": [
    "from google.colab import files\n",
    "\n",
    "files.download(\"corpus.zip\")"
   ]
  },
  {
   "cell_type": "markdown",
   "metadata": {
    "id": "HPjvFPUCC8fA"
   },
   "source": [
    "Sie haben nun ihre Texte aufbereitet und dafür vielleicht (wenn die Technik so mitgemacht hat) fünf Minuten gebraucht."
   ]
  }
 ],
 "metadata": {
  "colab": {
   "provenance": []
  },
  "kernelspec": {
   "display_name": "Python 3 (ipykernel)",
   "language": "python",
   "name": "python3"
  },
  "language_info": {
   "codemirror_mode": {
    "name": "ipython",
    "version": 3
   },
   "file_extension": ".py",
   "mimetype": "text/x-python",
   "name": "python",
   "nbconvert_exporter": "python",
   "pygments_lexer": "ipython3",
   "version": "3.12.3"
  }
 },
 "nbformat": 4,
 "nbformat_minor": 4
}
