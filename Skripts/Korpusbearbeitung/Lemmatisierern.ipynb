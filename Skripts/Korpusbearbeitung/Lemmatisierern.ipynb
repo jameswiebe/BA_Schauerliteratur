{
 "cells": [
  {
   "cell_type": "markdown",
   "metadata": {
    "id": "vQGPSn_LkQE1"
   },
   "source": [
    "# Korpus lemmatisieren\n",
    "\n",
    "Dieses Notebook nutzt die Programmiersprache *Python*, um ihre Texte zu lemmatisieren. Um ihnen etwas die Angst zu nehmen, führen wir jetzt vor allen anderen erst einmal ihre Feuertaufe durch.\n",
    "\n",
    "Dazu klicken sie auf den Code in der nächsten Zelle. Dann drücken sie auf Windows STRG+ENTER, auf Apple CMD+ENTER.\n",
    "\n",
    "Hallo Welt\n"
   ]
  },
  {
   "cell_type": "code",
   "execution_count": 1,
   "metadata": {
    "colab": {
     "base_uri": "https://localhost:8080/"
    },
    "id": "c3bhfNbRlHyK",
    "outputId": "da43ea75-7095-4d7a-de74-34ea76103e1e"
   },
   "outputs": [
    {
     "name": "stdout",
     "output_type": "stream",
     "text": [
      "Hello World!\n"
     ]
    }
   ],
   "source": [
    "print(\"Hello World!\")"
   ]
  },
  {
   "cell_type": "code",
   "execution_count": 2,
   "metadata": {},
   "outputs": [
    {
     "name": "stdout",
     "output_type": "stream",
     "text": [
      "Aktuelles Verzeichnis: C:\\Users\\jwieb\\Downloads\n"
     ]
    }
   ],
   "source": [
    "import os\n",
    "\n",
    "# Aktuelles Arbeitsverzeichnis anzeigen\n",
    "print(\"Aktuelles Verzeichnis:\", os.getcwd())"
   ]
  },
  {
   "cell_type": "code",
   "execution_count": 4,
   "metadata": {
    "editable": true,
    "slideshow": {
     "slide_type": ""
    },
    "tags": []
   },
   "outputs": [],
   "source": [
    "os.chdir(r'C:\\Users\\jwieb\\Documents\\Lemmatisieren_Ordner')"
   ]
  },
  {
   "cell_type": "code",
   "execution_count": 5,
   "metadata": {
    "editable": true,
    "slideshow": {
     "slide_type": ""
    },
    "tags": []
   },
   "outputs": [
    {
     "name": "stdout",
     "output_type": "stream",
     "text": [
      "Neues Verzeichnis: C:\\Users\\jwieb\\Documents\\Lemmatisieren_Ordner\n"
     ]
    }
   ],
   "source": [
    "print(\"Neues Verzeichnis:\", os.getcwd())"
   ]
  },
  {
   "cell_type": "markdown",
   "metadata": {
    "id": "SFmCJWjulNB4"
   },
   "source": [
    "Herzlichen Glückwunsch, sie haben nun Code ausgeführt, nämlich das berühmte \"Hello World!\"-Programm. Sie sind jetzt alle Programmierer.\n",
    "\n",
    "\n",
    "## Ein paar Bemerkungen zu Colab\n",
    "Colab ist generell kostenlos, hat allerdings einige Eigenheiten, die es zu beachten gilt.\n",
    "1. Es ist von Google\n",
    "2. Sie müssen immer alle Daten hochladen, Colab merkt sich die letzte Sitzung nicht\n",
    "3. Das heißt auch, dass sie alles wieder herunterladen müssen (wird hier automatisch gemacht)  \n",
    "4. Wenn sie zulange inaktiv sind, wird die Sitzung beendet und sie müssen von vorne anfangen\n",
    "\n",
    "## Erste Schritte\n",
    "\n",
    "1. Klicken sie auf das Ordnersymbol auf der linken Seite.\n",
    "2. Rechtsklicken sie in der sich öffnenden Leiste und wählen sie \"New Folder\".\n",
    "3. Benennen sie den Ordner *corpus-raw* (Kleinschreibung und \"-\" beachten, ansonsten funktioniert der Code nicht!).\n",
    "4. Rechtsklicken sie ihren neuen Ordner, wählen sie \"Upload\".\n",
    "5. In dem sich öffnenden Fenster suchen sie ihre *.txt*-Datein, wählen sie alle aus und klicken sie auf \"Öffnen\".\n",
    "6. Wiederholen sie Schritt 2 und 3, benennen sie den neuen Ordner *corpus-clean*\n",
    "\n",
    "Nun sollten alle ihre Daten hochgeladen sein. Falls nicht, einfach rufen!\n",
    "\n",
    "Klicken sie nun auf den Code in der nächsten Zelle und führen sie diesen aus (sie können den Output ignorieren).\n"
   ]
  },
  {
   "cell_type": "code",
   "execution_count": 6,
   "metadata": {
    "colab": {
     "base_uri": "https://localhost:8080/"
    },
    "id": "JZU1h87FlGmY",
    "outputId": "6b59f142-48d3-4e7a-d268-da22af12a8e9"
   },
   "outputs": [
    {
     "name": "stdout",
     "output_type": "stream",
     "text": [
      "Collecting de-core-news-sm==3.7.0\n",
      "  Downloading https://github.com/explosion/spacy-models/releases/download/de_core_news_sm-3.7.0/de_core_news_sm-3.7.0-py3-none-any.whl (14.6 MB)\n",
      "     ---------------------------------------- 0.0/14.6 MB ? eta -:--:--\n",
      "     ---------------------------------------- 0.0/14.6 MB ? eta -:--:--\n",
      "     --------------------------------------- 0.0/14.6 MB 262.6 kB/s eta 0:00:56\n",
      "     --------------------------------------- 0.1/14.6 MB 409.6 kB/s eta 0:00:36\n",
      "     - -------------------------------------- 0.4/14.6 MB 2.2 MB/s eta 0:00:07\n",
      "     -- ------------------------------------- 1.0/14.6 MB 4.1 MB/s eta 0:00:04\n",
      "     ---- ----------------------------------- 1.5/14.6 MB 5.3 MB/s eta 0:00:03\n",
      "     ----- ---------------------------------- 1.9/14.6 MB 6.1 MB/s eta 0:00:03\n",
      "     ------ --------------------------------- 2.4/14.6 MB 6.3 MB/s eta 0:00:02\n",
      "     ------- -------------------------------- 2.9/14.6 MB 6.8 MB/s eta 0:00:02\n",
      "     --------- ------------------------------ 3.4/14.6 MB 7.2 MB/s eta 0:00:02\n",
      "     ---------- ----------------------------- 3.8/14.6 MB 7.4 MB/s eta 0:00:02\n",
      "     ----------- ---------------------------- 4.1/14.6 MB 7.5 MB/s eta 0:00:02\n",
      "     ------------ --------------------------- 4.4/14.6 MB 7.4 MB/s eta 0:00:02\n",
      "     ------------ --------------------------- 4.6/14.6 MB 7.0 MB/s eta 0:00:02\n",
      "     ------------- -------------------------- 4.8/14.6 MB 7.0 MB/s eta 0:00:02\n",
      "     ------------- -------------------------- 5.0/14.6 MB 6.6 MB/s eta 0:00:02\n",
      "     ------------- -------------------------- 5.1/14.6 MB 6.4 MB/s eta 0:00:02\n",
      "     -------------- ------------------------- 5.2/14.6 MB 6.3 MB/s eta 0:00:02\n",
      "     -------------- ------------------------- 5.4/14.6 MB 6.0 MB/s eta 0:00:02\n",
      "     --------------- ------------------------ 5.5/14.6 MB 5.9 MB/s eta 0:00:02\n",
      "     --------------- ------------------------ 5.7/14.6 MB 5.8 MB/s eta 0:00:02\n",
      "     ---------------- ----------------------- 5.9/14.6 MB 5.7 MB/s eta 0:00:02\n",
      "     ---------------- ----------------------- 6.0/14.6 MB 5.7 MB/s eta 0:00:02\n",
      "     ---------------- ----------------------- 6.1/14.6 MB 5.4 MB/s eta 0:00:02\n",
      "     ----------------- ---------------------- 6.2/14.6 MB 5.3 MB/s eta 0:00:02\n",
      "     ----------------- ---------------------- 6.3/14.6 MB 5.3 MB/s eta 0:00:02\n",
      "     ----------------- ---------------------- 6.5/14.6 MB 5.1 MB/s eta 0:00:02\n",
      "     ------------------ --------------------- 6.7/14.6 MB 5.1 MB/s eta 0:00:02\n",
      "     ------------------ --------------------- 6.9/14.6 MB 5.0 MB/s eta 0:00:02\n",
      "     ------------------- -------------------- 7.0/14.6 MB 5.0 MB/s eta 0:00:02\n",
      "     ------------------- -------------------- 7.2/14.6 MB 5.0 MB/s eta 0:00:02\n",
      "     -------------------- ------------------- 7.5/14.6 MB 5.0 MB/s eta 0:00:02\n",
      "     --------------------- ------------------ 7.7/14.6 MB 5.0 MB/s eta 0:00:02\n",
      "     --------------------- ------------------ 8.0/14.6 MB 5.0 MB/s eta 0:00:02\n",
      "     ---------------------- ----------------- 8.2/14.6 MB 5.0 MB/s eta 0:00:02\n",
      "     ---------------------- ----------------- 8.4/14.6 MB 5.0 MB/s eta 0:00:02\n",
      "     ----------------------- ---------------- 8.5/14.6 MB 4.9 MB/s eta 0:00:02\n",
      "     ----------------------- ---------------- 8.6/14.6 MB 4.8 MB/s eta 0:00:02\n",
      "     ----------------------- ---------------- 8.7/14.6 MB 4.8 MB/s eta 0:00:02\n",
      "     ------------------------ --------------- 8.9/14.6 MB 4.7 MB/s eta 0:00:02\n",
      "     ------------------------ --------------- 9.0/14.6 MB 4.7 MB/s eta 0:00:02\n",
      "     ------------------------ --------------- 9.1/14.6 MB 4.6 MB/s eta 0:00:02\n",
      "     ------------------------- -------------- 9.3/14.6 MB 4.6 MB/s eta 0:00:02\n",
      "     ------------------------- -------------- 9.5/14.6 MB 4.6 MB/s eta 0:00:02\n",
      "     -------------------------- ------------- 9.7/14.6 MB 4.6 MB/s eta 0:00:02\n",
      "     -------------------------- ------------- 9.9/14.6 MB 4.6 MB/s eta 0:00:02\n",
      "     --------------------------- ------------ 10.0/14.6 MB 4.6 MB/s eta 0:00:02\n",
      "     --------------------------- ------------ 10.2/14.6 MB 4.5 MB/s eta 0:00:01\n",
      "     ---------------------------- ----------- 10.3/14.6 MB 4.7 MB/s eta 0:00:01\n",
      "     ---------------------------- ----------- 10.4/14.6 MB 4.7 MB/s eta 0:00:01\n",
      "     ---------------------------- ----------- 10.4/14.6 MB 4.6 MB/s eta 0:00:01\n",
      "     ---------------------------- ----------- 10.5/14.6 MB 4.5 MB/s eta 0:00:01\n",
      "     ----------------------------- ---------- 10.6/14.6 MB 4.5 MB/s eta 0:00:01\n",
      "     ----------------------------- ---------- 10.7/14.6 MB 4.4 MB/s eta 0:00:01\n",
      "     ----------------------------- ---------- 10.9/14.6 MB 4.3 MB/s eta 0:00:01\n",
      "     ------------------------------ --------- 11.0/14.6 MB 4.3 MB/s eta 0:00:01\n",
      "     ------------------------------ --------- 11.2/14.6 MB 4.2 MB/s eta 0:00:01\n",
      "     ------------------------------- -------- 11.4/14.6 MB 4.1 MB/s eta 0:00:01\n",
      "     ------------------------------- -------- 11.6/14.6 MB 4.1 MB/s eta 0:00:01\n",
      "     -------------------------------- ------- 11.8/14.6 MB 4.0 MB/s eta 0:00:01\n",
      "     -------------------------------- ------- 12.0/14.6 MB 4.0 MB/s eta 0:00:01\n",
      "     --------------------------------- ------ 12.2/14.6 MB 4.0 MB/s eta 0:00:01\n",
      "     ---------------------------------- ----- 12.5/14.6 MB 3.9 MB/s eta 0:00:01\n",
      "     ---------------------------------- ----- 12.7/14.6 MB 3.9 MB/s eta 0:00:01\n",
      "     ----------------------------------- ---- 12.8/14.6 MB 3.9 MB/s eta 0:00:01\n",
      "     ----------------------------------- ---- 13.0/14.6 MB 3.8 MB/s eta 0:00:01\n",
      "     ----------------------------------- ---- 13.1/14.6 MB 3.8 MB/s eta 0:00:01\n",
      "     ------------------------------------ --- 13.3/14.6 MB 3.7 MB/s eta 0:00:01\n",
      "     ------------------------------------ --- 13.5/14.6 MB 3.7 MB/s eta 0:00:01\n",
      "     ------------------------------------- -- 13.7/14.6 MB 3.7 MB/s eta 0:00:01\n",
      "     ------------------------------------- -- 13.9/14.6 MB 3.6 MB/s eta 0:00:01\n",
      "     -------------------------------------- - 14.0/14.6 MB 3.6 MB/s eta 0:00:01\n",
      "     -------------------------------------- - 14.1/14.6 MB 3.6 MB/s eta 0:00:01\n",
      "     ---------------------------------------  14.3/14.6 MB 3.5 MB/s eta 0:00:01\n",
      "     ---------------------------------------  14.4/14.6 MB 3.5 MB/s eta 0:00:01\n",
      "     ---------------------------------------  14.5/14.6 MB 3.4 MB/s eta 0:00:01\n",
      "     ---------------------------------------  14.6/14.6 MB 3.4 MB/s eta 0:00:01\n",
      "     ---------------------------------------  14.6/14.6 MB 3.4 MB/s eta 0:00:01\n",
      "     ---------------------------------------  14.6/14.6 MB 3.4 MB/s eta 0:00:01\n",
      "     ---------------------------------------- 14.6/14.6 MB 3.3 MB/s eta 0:00:00\n",
      "Requirement already satisfied: spacy<3.8.0,>=3.7.0 in c:\\users\\jwieb\\appdata\\local\\programs\\python\\python312\\lib\\site-packages (from de-core-news-sm==3.7.0) (3.7.6)\n",
      "Requirement already satisfied: spacy-legacy<3.1.0,>=3.0.11 in c:\\users\\jwieb\\appdata\\local\\programs\\python\\python312\\lib\\site-packages (from spacy<3.8.0,>=3.7.0->de-core-news-sm==3.7.0) (3.0.12)\n",
      "Requirement already satisfied: spacy-loggers<2.0.0,>=1.0.0 in c:\\users\\jwieb\\appdata\\local\\programs\\python\\python312\\lib\\site-packages (from spacy<3.8.0,>=3.7.0->de-core-news-sm==3.7.0) (1.0.5)\n",
      "Requirement already satisfied: murmurhash<1.1.0,>=0.28.0 in c:\\users\\jwieb\\appdata\\local\\programs\\python\\python312\\lib\\site-packages (from spacy<3.8.0,>=3.7.0->de-core-news-sm==3.7.0) (1.0.10)\n",
      "Requirement already satisfied: cymem<2.1.0,>=2.0.2 in c:\\users\\jwieb\\appdata\\local\\programs\\python\\python312\\lib\\site-packages (from spacy<3.8.0,>=3.7.0->de-core-news-sm==3.7.0) (2.0.8)\n",
      "Requirement already satisfied: preshed<3.1.0,>=3.0.2 in c:\\users\\jwieb\\appdata\\local\\programs\\python\\python312\\lib\\site-packages (from spacy<3.8.0,>=3.7.0->de-core-news-sm==3.7.0) (3.0.9)\n",
      "Requirement already satisfied: thinc<8.3.0,>=8.2.2 in c:\\users\\jwieb\\appdata\\local\\programs\\python\\python312\\lib\\site-packages (from spacy<3.8.0,>=3.7.0->de-core-news-sm==3.7.0) (8.2.5)\n",
      "Requirement already satisfied: wasabi<1.2.0,>=0.9.1 in c:\\users\\jwieb\\appdata\\local\\programs\\python\\python312\\lib\\site-packages (from spacy<3.8.0,>=3.7.0->de-core-news-sm==3.7.0) (1.1.3)\n",
      "Requirement already satisfied: srsly<3.0.0,>=2.4.3 in c:\\users\\jwieb\\appdata\\local\\programs\\python\\python312\\lib\\site-packages (from spacy<3.8.0,>=3.7.0->de-core-news-sm==3.7.0) (2.4.8)\n",
      "Requirement already satisfied: catalogue<2.1.0,>=2.0.6 in c:\\users\\jwieb\\appdata\\local\\programs\\python\\python312\\lib\\site-packages (from spacy<3.8.0,>=3.7.0->de-core-news-sm==3.7.0) (2.0.10)\n",
      "Requirement already satisfied: weasel<0.5.0,>=0.1.0 in c:\\users\\jwieb\\appdata\\local\\programs\\python\\python312\\lib\\site-packages (from spacy<3.8.0,>=3.7.0->de-core-news-sm==3.7.0) (0.4.1)\n",
      "Requirement already satisfied: typer<1.0.0,>=0.3.0 in c:\\users\\jwieb\\appdata\\local\\programs\\python\\python312\\lib\\site-packages (from spacy<3.8.0,>=3.7.0->de-core-news-sm==3.7.0) (0.12.5)\n",
      "Requirement already satisfied: tqdm<5.0.0,>=4.38.0 in c:\\users\\jwieb\\appdata\\local\\programs\\python\\python312\\lib\\site-packages (from spacy<3.8.0,>=3.7.0->de-core-news-sm==3.7.0) (4.66.5)\n",
      "Requirement already satisfied: requests<3.0.0,>=2.13.0 in c:\\users\\jwieb\\appdata\\local\\programs\\python\\python312\\lib\\site-packages (from spacy<3.8.0,>=3.7.0->de-core-news-sm==3.7.0) (2.32.3)\n",
      "Requirement already satisfied: pydantic!=1.8,!=1.8.1,<3.0.0,>=1.7.4 in c:\\users\\jwieb\\appdata\\local\\programs\\python\\python312\\lib\\site-packages (from spacy<3.8.0,>=3.7.0->de-core-news-sm==3.7.0) (2.8.2)\n",
      "Requirement already satisfied: jinja2 in c:\\users\\jwieb\\appdata\\local\\programs\\python\\python312\\lib\\site-packages (from spacy<3.8.0,>=3.7.0->de-core-news-sm==3.7.0) (3.1.4)\n",
      "Requirement already satisfied: setuptools in c:\\users\\jwieb\\appdata\\local\\programs\\python\\python312\\lib\\site-packages (from spacy<3.8.0,>=3.7.0->de-core-news-sm==3.7.0) (74.1.1)\n",
      "Requirement already satisfied: packaging>=20.0 in c:\\users\\jwieb\\appdata\\local\\programs\\python\\python312\\lib\\site-packages (from spacy<3.8.0,>=3.7.0->de-core-news-sm==3.7.0) (24.0)\n",
      "Requirement already satisfied: langcodes<4.0.0,>=3.2.0 in c:\\users\\jwieb\\appdata\\local\\programs\\python\\python312\\lib\\site-packages (from spacy<3.8.0,>=3.7.0->de-core-news-sm==3.7.0) (3.4.0)\n",
      "Requirement already satisfied: numpy>=1.19.0 in c:\\users\\jwieb\\appdata\\local\\programs\\python\\python312\\lib\\site-packages (from spacy<3.8.0,>=3.7.0->de-core-news-sm==3.7.0) (1.26.4)\n",
      "Requirement already satisfied: language-data>=1.2 in c:\\users\\jwieb\\appdata\\local\\programs\\python\\python312\\lib\\site-packages (from langcodes<4.0.0,>=3.2.0->spacy<3.8.0,>=3.7.0->de-core-news-sm==3.7.0) (1.2.0)\n",
      "Requirement already satisfied: annotated-types>=0.4.0 in c:\\users\\jwieb\\appdata\\local\\programs\\python\\python312\\lib\\site-packages (from pydantic!=1.8,!=1.8.1,<3.0.0,>=1.7.4->spacy<3.8.0,>=3.7.0->de-core-news-sm==3.7.0) (0.7.0)\n",
      "Requirement already satisfied: pydantic-core==2.20.1 in c:\\users\\jwieb\\appdata\\local\\programs\\python\\python312\\lib\\site-packages (from pydantic!=1.8,!=1.8.1,<3.0.0,>=1.7.4->spacy<3.8.0,>=3.7.0->de-core-news-sm==3.7.0) (2.20.1)\n",
      "Requirement already satisfied: typing-extensions>=4.6.1 in c:\\users\\jwieb\\appdata\\local\\programs\\python\\python312\\lib\\site-packages (from pydantic!=1.8,!=1.8.1,<3.0.0,>=1.7.4->spacy<3.8.0,>=3.7.0->de-core-news-sm==3.7.0) (4.12.2)\n",
      "Requirement already satisfied: charset-normalizer<4,>=2 in c:\\users\\jwieb\\appdata\\local\\programs\\python\\python312\\lib\\site-packages (from requests<3.0.0,>=2.13.0->spacy<3.8.0,>=3.7.0->de-core-news-sm==3.7.0) (3.3.2)\n",
      "Requirement already satisfied: idna<4,>=2.5 in c:\\users\\jwieb\\appdata\\local\\programs\\python\\python312\\lib\\site-packages (from requests<3.0.0,>=2.13.0->spacy<3.8.0,>=3.7.0->de-core-news-sm==3.7.0) (3.7)\n",
      "Requirement already satisfied: urllib3<3,>=1.21.1 in c:\\users\\jwieb\\appdata\\local\\programs\\python\\python312\\lib\\site-packages (from requests<3.0.0,>=2.13.0->spacy<3.8.0,>=3.7.0->de-core-news-sm==3.7.0) (2.2.1)\n",
      "Requirement already satisfied: certifi>=2017.4.17 in c:\\users\\jwieb\\appdata\\local\\programs\\python\\python312\\lib\\site-packages (from requests<3.0.0,>=2.13.0->spacy<3.8.0,>=3.7.0->de-core-news-sm==3.7.0) (2024.6.2)\n",
      "Requirement already satisfied: blis<0.8.0,>=0.7.8 in c:\\users\\jwieb\\appdata\\local\\programs\\python\\python312\\lib\\site-packages (from thinc<8.3.0,>=8.2.2->spacy<3.8.0,>=3.7.0->de-core-news-sm==3.7.0) (0.7.11)\n",
      "Requirement already satisfied: confection<1.0.0,>=0.0.1 in c:\\users\\jwieb\\appdata\\local\\programs\\python\\python312\\lib\\site-packages (from thinc<8.3.0,>=8.2.2->spacy<3.8.0,>=3.7.0->de-core-news-sm==3.7.0) (0.1.5)\n",
      "Requirement already satisfied: colorama in c:\\users\\jwieb\\appdata\\local\\programs\\python\\python312\\lib\\site-packages (from tqdm<5.0.0,>=4.38.0->spacy<3.8.0,>=3.7.0->de-core-news-sm==3.7.0) (0.4.6)\n",
      "Requirement already satisfied: click>=8.0.0 in c:\\users\\jwieb\\appdata\\local\\programs\\python\\python312\\lib\\site-packages (from typer<1.0.0,>=0.3.0->spacy<3.8.0,>=3.7.0->de-core-news-sm==3.7.0) (8.1.7)\n",
      "Requirement already satisfied: shellingham>=1.3.0 in c:\\users\\jwieb\\appdata\\local\\programs\\python\\python312\\lib\\site-packages (from typer<1.0.0,>=0.3.0->spacy<3.8.0,>=3.7.0->de-core-news-sm==3.7.0) (1.5.4)\n",
      "Requirement already satisfied: rich>=10.11.0 in c:\\users\\jwieb\\appdata\\local\\programs\\python\\python312\\lib\\site-packages (from typer<1.0.0,>=0.3.0->spacy<3.8.0,>=3.7.0->de-core-news-sm==3.7.0) (13.8.0)\n",
      "Requirement already satisfied: cloudpathlib<1.0.0,>=0.7.0 in c:\\users\\jwieb\\appdata\\local\\programs\\python\\python312\\lib\\site-packages (from weasel<0.5.0,>=0.1.0->spacy<3.8.0,>=3.7.0->de-core-news-sm==3.7.0) (0.19.0)\n",
      "Requirement already satisfied: smart-open<8.0.0,>=5.2.1 in c:\\users\\jwieb\\appdata\\local\\programs\\python\\python312\\lib\\site-packages (from weasel<0.5.0,>=0.1.0->spacy<3.8.0,>=3.7.0->de-core-news-sm==3.7.0) (7.0.4)\n",
      "Requirement already satisfied: MarkupSafe>=2.0 in c:\\users\\jwieb\\appdata\\local\\programs\\python\\python312\\lib\\site-packages (from jinja2->spacy<3.8.0,>=3.7.0->de-core-news-sm==3.7.0) (2.1.5)\n",
      "Requirement already satisfied: marisa-trie>=0.7.7 in c:\\users\\jwieb\\appdata\\local\\programs\\python\\python312\\lib\\site-packages (from language-data>=1.2->langcodes<4.0.0,>=3.2.0->spacy<3.8.0,>=3.7.0->de-core-news-sm==3.7.0) (1.2.0)\n",
      "Requirement already satisfied: markdown-it-py>=2.2.0 in c:\\users\\jwieb\\appdata\\local\\programs\\python\\python312\\lib\\site-packages (from rich>=10.11.0->typer<1.0.0,>=0.3.0->spacy<3.8.0,>=3.7.0->de-core-news-sm==3.7.0) (3.0.0)\n",
      "Requirement already satisfied: pygments<3.0.0,>=2.13.0 in c:\\users\\jwieb\\appdata\\local\\programs\\python\\python312\\lib\\site-packages (from rich>=10.11.0->typer<1.0.0,>=0.3.0->spacy<3.8.0,>=3.7.0->de-core-news-sm==3.7.0) (2.18.0)\n",
      "Requirement already satisfied: wrapt in c:\\users\\jwieb\\appdata\\local\\programs\\python\\python312\\lib\\site-packages (from smart-open<8.0.0,>=5.2.1->weasel<0.5.0,>=0.1.0->spacy<3.8.0,>=3.7.0->de-core-news-sm==3.7.0) (1.16.0)\n",
      "Requirement already satisfied: mdurl~=0.1 in c:\\users\\jwieb\\appdata\\local\\programs\\python\\python312\\lib\\site-packages (from markdown-it-py>=2.2.0->rich>=10.11.0->typer<1.0.0,>=0.3.0->spacy<3.8.0,>=3.7.0->de-core-news-sm==3.7.0) (0.1.2)\n",
      "\u001b[38;5;2m[+] Download and installation successful\u001b[0m\n",
      "You can now load the package via spacy.load('de_core_news_sm')\n"
     ]
    },
    {
     "name": "stderr",
     "output_type": "stream",
     "text": [
      "\n",
      "[notice] A new release of pip is available: 24.0 -> 24.2\n",
      "[notice] To update, run: python.exe -m pip install --upgrade pip\n"
     ]
    }
   ],
   "source": [
    "!python -m spacy download de_core_news_sm"
   ]
  },
  {
   "cell_type": "markdown",
   "metadata": {
    "id": "Xozco7PZlLEd"
   },
   "source": [
    "Führen sie als nächstes die folgende Zelle aus:"
   ]
  },
  {
   "cell_type": "code",
   "execution_count": 7,
   "metadata": {
    "id": "vwqOFa3Q-9mf"
   },
   "outputs": [],
   "source": [
    "import spacy\n",
    "\n",
    "nlp = spacy.load(\"de_core_news_sm\")\n",
    "nlp.max_length=10000000"
   ]
  },
  {
   "cell_type": "markdown",
   "metadata": {
    "id": "KbNrIb4opV3l"
   },
   "source": [
    "Durch diese Zelle wurde auf dem Server ein sogenanntes **spaCy**-Modell geladen. Es handelt sich dabei um eine Python-Bibliothek, die die meisten Textbereinigungs-Operationen durch führen kann. Es ist im Prinzip der Standard für die meisten NLP-Probleme (NLP steht für Natural Language Processing und meint die maschinelle Verabeitung von Text.)\n",
    "\n",
    "Führen sie nun die nächste Zelle aus."
   ]
  },
  {
   "cell_type": "code",
   "execution_count": 8,
   "metadata": {
    "colab": {
     "base_uri": "https://localhost:8080/"
    },
    "id": "XjzfRuapoOsT",
    "outputId": "5e0e11a6-b9f7-4b07-ea52-d616e3a7decf"
   },
   "outputs": [],
   "source": [
    "import os\n",
    "\n",
    "corpus_raw = []\n",
    "filenames = []\n",
    "\n",
    "for file in os.listdir(\"corpus-raw\"):\n",
    "  try:\n",
    "    with open(\"corpus-raw/\" + file, \"r\", encoding=\"utf8\") as f:\n",
    "      corpus_raw.append(f.read())\n",
    "      filenames.append(file)\n",
    "  except Exception as e:\n",
    "    print(\"Error with file:\\t\" + file)\n",
    "    print(e)"
   ]
  },
  {
   "cell_type": "markdown",
   "metadata": {
    "id": "1Ku9YS1pigxu"
   },
   "source": [
    "Der Code ist relativ simpel: Alle *.txt*-Datein im Ordner *corpus-raw* werden in eine Liste namens*corpus_raw* eingelesen. Gleichzeitig werden die Dateinamen, die sie gewählt haben, in eine weitere Liste *filenames* eingelesen. In der nächsten Zelle werden der erste Dateiname und die ersten 100 Zeichen der ersten Datei ausgegeben.\n",
    "\n",
    "**Aufgabe:** Was müssen sie her verändern, wenn sie den Dritten Dateinamen und die ersten 100 Zeichen ihres dritten Textes ausgeben wollen?"
   ]
  },
  {
   "cell_type": "code",
   "execution_count": 9,
   "metadata": {
    "colab": {
     "base_uri": "https://localhost:8080/"
    },
    "id": "JCegoboepyMf",
    "outputId": "f1628cdd-744d-4bbf-a0b0-b4bb19b3fe10"
   },
   "outputs": [
    {
     "name": "stdout",
     "output_type": "stream",
     "text": [
      "arnima_invalide_1818.txt\n",
      "Gaben Milde . \n",
      " Bändchen . \n",
      " Beiträgen L. Achim Arnim , F. W. Gubitz , Heraklius , C. F. E. Ludwig .\n"
     ]
    }
   ],
   "source": [
    "print(filenames[0])\n",
    "print(corpus_raw[0][:100])"
   ]
  },
  {
   "cell_type": "markdown",
   "metadata": {
    "id": "QpQiJEcflTWH"
   },
   "source": [
    "Wenn sie mit der oberen Zelle etwas herumgespielt haben, kommen wir nun zu dem interessante Part: dem lemmatisiseren der Texte. Mit Lemmatisieren wird einfach nur ein Wort in dem Text in seinen Grundform gesetzt.\n",
    "\n",
    "**Beispiel**: Aus dem Satz *Heute gingen wir zurück zu den Häusern* wird *heute gehen wir zurück zu das Haus*\n",
    "\n"
   ]
  },
  {
   "cell_type": "code",
   "execution_count": 10,
   "metadata": {
    "id": "c6-1wPO-_N8L"
   },
   "outputs": [],
   "source": [
    "corpus_clean = []\n",
    "\n",
    "for text in corpus_raw:\n",
    "  doc = nlp(text)\n",
    "  text_clean = \"\"\n",
    "  for token in doc:\n",
    "    text_clean = text_clean + token.lemma_ + \" \"\n",
    "  corpus_clean.append(text_clean)"
   ]
  },
  {
   "cell_type": "markdown",
   "metadata": {
    "id": "a3FAFMs8mYce"
   },
   "source": [
    "Danach lassen wir uns erneut den ersten Dateinamen anzeigen und dieses Mal den lemmatisierten Text der ersten Datei. So können wir überprüfen, ob unser Code funktioniert (was genrell eine gute Idee ist)."
   ]
  },
  {
   "cell_type": "code",
   "execution_count": 11,
   "metadata": {
    "colab": {
     "base_uri": "https://localhost:8080/"
    },
    "id": "4SdCZbfyBxdl",
    "outputId": "900dae97-5e20-4acf-f342-d308da1f720b"
   },
   "outputs": [
    {
     "name": "stdout",
     "output_type": "stream",
     "text": [
      "arnima_invalide_1818.txt\n",
      "Gabe Milde -- \n",
      "  Bändch -- \n",
      "  Beitrag L. Achim Arnim -- F. W. Gubitz -- Heraklius -- C. F. E. Ludwig\n"
     ]
    }
   ],
   "source": [
    "print(filenames[0])\n",
    "print(corpus_clean[0][:100])"
   ]
  },
  {
   "cell_type": "markdown",
   "metadata": {
    "editable": true,
    "id": "QuXwED_xm0oy",
    "slideshow": {
     "slide_type": ""
    },
    "tags": []
   },
   "source": [
    "Wenn sie zufrieden sind führen sie die nächste Codezelle aus (wenn nicht rufen sie mich, ein bisschen kann man hier noch machen).\n",
    "\n",
    "Es werden hier einfach nur ihre lemmatisierten Texte in den Ordner *corpus-clean* mit den selben Namen wie ihre gesammelten Texte gespeichert."
   ]
  },
  {
   "cell_type": "code",
   "execution_count": 12,
   "metadata": {
    "colab": {
     "base_uri": "https://localhost:8080/",
     "height": 17
    },
    "id": "s9vnfT72B0IJ",
    "outputId": "6b34bd69-fa94-4856-ff98-8ba98b35ba87"
   },
   "outputs": [],
   "source": [
    "for i in range(len(filenames)):\n",
    "  try:\n",
    "    with open(\"corpus-clean/\" + filenames[i], \"w\", encoding=\"utf8\") as f:\n",
    "      f.write(corpus_clean[i])\n",
    "  except Exception as e:\n",
    "    print(\"Error with file:\\t\" + file)\n",
    "    print(e)"
   ]
  },
  {
   "cell_type": "markdown",
   "metadata": {
    "id": "RSrwQXKMnrdD"
   },
   "source": [
    "Frustrierenderweise kann man nicht bequem über Colab einen gesamten Ordner herunterladen (und sie werden sicherlich nicht ihre 50+ Texte manuell herunterladen!). Deswegen packen wir den Ordner *corpus-clean* in ein Zip-Archiv. Führen sie hierzu einfach die nächste Zelle aus (sie können den Output ignorieren)."
   ]
  },
  {
   "cell_type": "code",
   "execution_count": null,
   "metadata": {
    "colab": {
     "base_uri": "https://localhost:8080/"
    },
    "id": "4AqmNx7pJCf8",
    "outputId": "136a3448-225a-47db-a3e0-b6fdd58a3819"
   },
   "outputs": [
    {
     "name": "stdout",
     "output_type": "stream",
     "text": [
      "  adding: content/corpus-clean/ (stored 0%)\n",
      "  adding: content/corpus-clean/Achleitner_FamilieLugmüller_gutenberg.txt (deflated 65%)\n",
      "  adding: content/corpus-clean/Achleitner_DerFinanzer_gutenberg.txt (deflated 65%)\n",
      "  adding: content/corpus-clean/Achleitner_DieDobratschrose_gutenberg.txt (deflated 64%)\n"
     ]
    }
   ],
   "source": [
    "!zip -r corpus.zip /content/corpus-clean"
   ]
  },
  {
   "cell_type": "markdown",
   "metadata": {
    "id": "BqI7ognFoNZV"
   },
   "source": [
    "Mit der nächsten Zelle wird das Zip-Archiv heruntergeladen:"
   ]
  },
  {
   "cell_type": "code",
   "execution_count": null,
   "metadata": {
    "colab": {
     "base_uri": "https://localhost:8080/",
     "height": 17
    },
    "id": "4pRRhJnDJGLu",
    "outputId": "a5d012ea-1599-4fc6-837a-dcadf68daea5"
   },
   "outputs": [
    {
     "data": {
      "application/javascript": [
       "\n",
       "    async function download(id, filename, size) {\n",
       "      if (!google.colab.kernel.accessAllowed) {\n",
       "        return;\n",
       "      }\n",
       "      const div = document.createElement('div');\n",
       "      const label = document.createElement('label');\n",
       "      label.textContent = `Downloading \"${filename}\": `;\n",
       "      div.appendChild(label);\n",
       "      const progress = document.createElement('progress');\n",
       "      progress.max = size;\n",
       "      div.appendChild(progress);\n",
       "      document.body.appendChild(div);\n",
       "\n",
       "      const buffers = [];\n",
       "      let downloaded = 0;\n",
       "\n",
       "      const channel = await google.colab.kernel.comms.open(id);\n",
       "      // Send a message to notify the kernel that we're ready.\n",
       "      channel.send({})\n",
       "\n",
       "      for await (const message of channel.messages) {\n",
       "        // Send a message to notify the kernel that we're ready.\n",
       "        channel.send({})\n",
       "        if (message.buffers) {\n",
       "          for (const buffer of message.buffers) {\n",
       "            buffers.push(buffer);\n",
       "            downloaded += buffer.byteLength;\n",
       "            progress.value = downloaded;\n",
       "          }\n",
       "        }\n",
       "      }\n",
       "      const blob = new Blob(buffers, {type: 'application/binary'});\n",
       "      const a = document.createElement('a');\n",
       "      a.href = window.URL.createObjectURL(blob);\n",
       "      a.download = filename;\n",
       "      div.appendChild(a);\n",
       "      a.click();\n",
       "      div.remove();\n",
       "    }\n",
       "  "
      ],
      "text/plain": [
       "<IPython.core.display.Javascript object>"
      ]
     },
     "metadata": {},
     "output_type": "display_data"
    },
    {
     "data": {
      "application/javascript": [
       "download(\"download_d95df835-385a-4985-8253-6e5e77574398\", \"corpus.zip\", 201577)"
      ],
      "text/plain": [
       "<IPython.core.display.Javascript object>"
      ]
     },
     "metadata": {},
     "output_type": "display_data"
    }
   ],
   "source": [
    "from google.colab import files\n",
    "\n",
    "files.download(\"corpus.zip\")"
   ]
  },
  {
   "cell_type": "markdown",
   "metadata": {
    "id": "HPjvFPUCC8fA"
   },
   "source": [
    "Sie haben nun ihre Texte lemmatisiert und dafür vielleicht (wenn die Technik so mitgemacht hat) fünf Minuten gebraucht."
   ]
  }
 ],
 "metadata": {
  "colab": {
   "provenance": []
  },
  "kernelspec": {
   "display_name": "Python 3 (ipykernel)",
   "language": "python",
   "name": "python3"
  },
  "language_info": {
   "codemirror_mode": {
    "name": "ipython",
    "version": 3
   },
   "file_extension": ".py",
   "mimetype": "text/x-python",
   "name": "python",
   "nbconvert_exporter": "python",
   "pygments_lexer": "ipython3",
   "version": "3.12.3"
  }
 },
 "nbformat": 4,
 "nbformat_minor": 4
}
